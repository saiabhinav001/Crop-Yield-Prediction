{
 "cells": [
  {
   "cell_type": "code",
   "execution_count": 1,
   "id": "a247d8ef",
   "metadata": {},
   "outputs": [],
   "source": [
    "import pandas as pd\n",
    "import numpy as np"
   ]
  },
  {
   "cell_type": "code",
   "execution_count": 2,
   "id": "fadfc62f",
   "metadata": {},
   "outputs": [],
   "source": [
    "# 1. Load the dataset\n",
    "df = pd.read_csv('data/APY.csv')"
   ]
  },
  {
   "cell_type": "code",
   "execution_count": 3,
   "id": "104a8771",
   "metadata": {},
   "outputs": [
    {
     "name": "stdout",
     "output_type": "stream",
     "text": [
      "Columns as read from the file: ['State', 'District ', 'Crop', 'Crop_Year', 'Season', 'Area ', 'Production', 'Yield']\n"
     ]
    }
   ],
   "source": [
    "print(\"Columns as read from the file:\", df.columns.tolist())"
   ]
  },
  {
   "cell_type": "code",
   "execution_count": 4,
   "id": "95abc180",
   "metadata": {},
   "outputs": [],
   "source": [
    "# Clean all column names to remove leading/trailing spaces\n",
    "df.columns = df.columns.str.strip()"
   ]
  },
  {
   "cell_type": "code",
   "execution_count": 5,
   "id": "b804e914",
   "metadata": {},
   "outputs": [
    {
     "name": "stdout",
     "output_type": "stream",
     "text": [
      "Columns after cleaning: ['State', 'District', 'Crop', 'Crop_Year', 'Season', 'Area', 'Production', 'Yield']\n"
     ]
    }
   ],
   "source": [
    "# Print the columns again to confirm they are cleaned\n",
    "print(\"Columns after cleaning:\", df.columns.tolist())"
   ]
  },
  {
   "cell_type": "code",
   "execution_count": 6,
   "id": "275c457d",
   "metadata": {},
   "outputs": [],
   "source": [
    "# Filter for the state of 'Odisha'\n",
    "df_odisha = df[df['State'] == 'Odisha'].copy()"
   ]
  },
  {
   "cell_type": "code",
   "execution_count": 7,
   "id": "40145d6b",
   "metadata": {},
   "outputs": [],
   "source": [
    "# Handle potential zero values in 'Area'\n",
    "df_odisha['Area'] = df_odisha['Area'].replace(0, np.nan)\n",
    "df_odisha.dropna(subset=['Area'], inplace=True)"
   ]
  },
  {
   "cell_type": "code",
   "execution_count": 8,
   "id": "26cbde41",
   "metadata": {},
   "outputs": [],
   "source": [
    "# Ensure 'Production' is numeric\n",
    "df_odisha['Production'] = pd.to_numeric(df_odisha['Production'], errors='coerce')\n",
    "df_odisha.dropna(subset=['Production'], inplace=True)"
   ]
  },
  {
   "cell_type": "code",
   "execution_count": 9,
   "id": "527ac6a5",
   "metadata": {},
   "outputs": [],
   "source": [
    "# Calculate the 'Yield'\n",
    "df_odisha['Calculated_Yield'] = df_odisha['Production'] / df_odisha['Area']"
   ]
  },
  {
   "cell_type": "code",
   "execution_count": 10,
   "id": "715df741",
   "metadata": {},
   "outputs": [
    {
     "name": "stdout",
     "output_type": "stream",
     "text": [
      "\n",
      "✅ Success! Your Odisha DataFrame is ready.\n",
      "         State District       Crop  Crop_Year       Season    Area  \\\n",
      "212582  Odisha   ANUGUL  Arhar/Tur       1997  Autumn       3555.0   \n",
      "212583  Odisha   ANUGUL  Arhar/Tur       1997  Summer        469.0   \n",
      "212584  Odisha   ANUGUL  Arhar/Tur       1997  Winter        660.0   \n",
      "212585  Odisha   ANUGUL  Arhar/Tur       1999  Kharif       7960.0   \n",
      "212586  Odisha   ANUGUL  Arhar/Tur       2000  Kharif       8930.0   \n",
      "\n",
      "        Production  Yield  Calculated_Yield  \n",
      "212582       739.0   0.21          0.207876  \n",
      "212583       115.0   0.25          0.245203  \n",
      "212584       114.0   0.17          0.172727  \n",
      "212585      5010.0   0.63          0.629397  \n",
      "212586      6430.0   0.72          0.720045  \n"
     ]
    }
   ],
   "source": [
    "print(\"\\n✅ Success! Your Odisha DataFrame is ready.\")\n",
    "print(df_odisha.head())"
   ]
  },
  {
   "cell_type": "code",
   "execution_count": null,
   "id": "862d859c",
   "metadata": {},
   "outputs": [],
   "source": []
  }
 ],
 "metadata": {
  "kernelspec": {
   "display_name": "Python 3",
   "language": "python",
   "name": "python3"
  },
  "language_info": {
   "codemirror_mode": {
    "name": "ipython",
    "version": 3
   },
   "file_extension": ".py",
   "mimetype": "text/x-python",
   "name": "python",
   "nbconvert_exporter": "python",
   "pygments_lexer": "ipython3",
   "version": "3.13.7"
  }
 },
 "nbformat": 4,
 "nbformat_minor": 5
}
